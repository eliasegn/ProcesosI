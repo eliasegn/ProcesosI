{
  "nbformat": 4,
  "nbformat_minor": 0,
  "metadata": {
    "colab": {
      "provenance": []
    },
    "kernelspec": {
      "name": "python3",
      "display_name": "Python 3"
    },
    "language_info": {
      "name": "python"
    }
  },
  "cells": [
    {
      "cell_type": "markdown",
      "source": [
        "# Distribuciones Estacionarias\n",
        "![](https://i.pinimg.com/originals/4a/30/77/4a30772e96d7352a26414cd60de33655.gif)\n",
        "\n",
        "Sabemos que cuando tenemos una cadena de Markov $\\{X_n\\}_{n \\in \\mathbb{N}}$ con espacio de estados $\\mathcal{S}$, podemos pensar en la sucesión $\\{\\pi_n\\}_{n \\in \\mathbb{N}}$, donde la distribución $\\pi_j$ corresponde a la distribución de probabilidad de la variable aleatoria $X_j$ sobre su conjunto de estados.\n",
        "\n",
        "En clase, se probó que\n",
        "\n",
        "$$ \\pi_{n+1} = \\pi_n P $$\n",
        "\n",
        "donde $P$ es la matriz de transición.\n",
        "\n",
        "Veamos un ejemplo, si consideramos la cadena con matriz de transición\n",
        "\n",
        "$$\n",
        "P = \\begin{bmatrix}\n",
        "0 & 0 & 0.9 & 0.1 \\\\\n",
        "0.1 & 0.05 & 0.8 & 0.05 \\\\\n",
        "0.025 & 0.025 & 0.9 & 0.05 \\\\\n",
        "0.1 & 0.1 & 0.7 & 0.1\n",
        "\\end{bmatrix}\n",
        "$$\n",
        "\n",
        "Entonces, ¿cómo se comportan a lo largo del tiempo sus distribuciones dada una distribución inicial?"
      ],
      "metadata": {
        "id": "2Z-Fdr5S28Nq"
      }
    },
    {
      "cell_type": "code",
      "source": [
        "import numpy as np\n",
        "import matplotlib.pyplot as plt\n",
        "import random\n",
        "\n",
        "P0 = np.array([\n",
        "    [0, 0, 0.9, 0.1],\n",
        "    [0.1, 0.05, 0.8, 0.05],\n",
        "    [0.025, 0.025, 0.9, 0.05],\n",
        "    [0.1, 0.1, 0.7, 0.1]\n",
        "])\n",
        "\n",
        "pi_0 = np.array([1,0,0,0]) # Suponemos esta dist inicial\n",
        "\n",
        "N = 10\n",
        "distribuciones = []\n",
        "\n",
        "for n in range(N):\n",
        "    pi_n = np.dot(pi_0, P0)\n",
        "    distribuciones.append(pi_n)\n",
        "    pi_0 = pi_n\n",
        "\n",
        "distribuciones"
      ],
      "metadata": {
        "colab": {
          "base_uri": "https://localhost:8080/"
        },
        "id": "TcKfq00z6KME",
        "outputId": "76d5014b-822f-44c3-841c-58748b0b9259"
      },
      "execution_count": null,
      "outputs": [
        {
          "output_type": "execute_result",
          "data": {
            "text/plain": [
              "[array([0. , 0. , 0.9, 0.1]),\n",
              " array([0.0325, 0.0325, 0.88  , 0.055 ]),\n",
              " array([0.03075 , 0.029125, 0.88575 , 0.054375]),\n",
              " array([0.03049375, 0.0290375 , 0.8862125 , 0.05425625]),\n",
              " array([0.03048469, 0.02903281, 0.886245  , 0.0542375 ]),\n",
              " array([0.03048316, 0.02903152, 0.88624922, 0.05423611]),\n",
              " array([0.03048299, 0.02903142, 0.88624963, 0.05423596]),\n",
              " array([0.03048298, 0.02903141, 0.88624967, 0.05423595]),\n",
              " array([0.03048298, 0.02903141, 0.88624967, 0.05423595]),\n",
              " array([0.03048298, 0.02903141, 0.88624967, 0.05423595])]"
            ]
          },
          "metadata": {},
          "execution_count": 2
        }
      ]
    },
    {
      "cell_type": "markdown",
      "source": [
        "Acá como que se estaciona, ¿no?\n",
        "\n",
        "¿Qué pasa si empieza con esa como mi distribución inicial?"
      ],
      "metadata": {
        "id": "UeTfZkOS9Tq_"
      }
    },
    {
      "cell_type": "code",
      "source": [
        "pi_00 = np.array([0.03048298, 0.02903141, 0.88624967, 0.05423595])\n",
        "N = 10\n",
        "distribuciones2 = []\n",
        "\n",
        "for n in range(N):\n",
        "    pi_n = np.dot(pi_00, P0)\n",
        "    distribuciones2.append(pi_n)\n",
        "    pi_00 = pi_n\n",
        "\n",
        "distribuciones2"
      ],
      "metadata": {
        "colab": {
          "base_uri": "https://localhost:8080/"
        },
        "id": "VhWIAirn99ih",
        "outputId": "02da9f2d-cd0c-4ad8-8081-a2b67c41a5a5"
      },
      "execution_count": null,
      "outputs": [
        {
          "output_type": "execute_result",
          "data": {
            "text/plain": [
              "[array([0.03048298, 0.02903141, 0.88624968, 0.05423595]),\n",
              " array([0.03048298, 0.02903141, 0.88624968, 0.05423595]),\n",
              " array([0.03048298, 0.02903141, 0.88624968, 0.05423595]),\n",
              " array([0.03048298, 0.02903141, 0.88624968, 0.05423595]),\n",
              " array([0.03048298, 0.02903141, 0.88624968, 0.05423595]),\n",
              " array([0.03048298, 0.02903141, 0.88624968, 0.05423595]),\n",
              " array([0.03048298, 0.02903141, 0.88624968, 0.05423595]),\n",
              " array([0.03048298, 0.02903141, 0.88624968, 0.05423595]),\n",
              " array([0.03048298, 0.02903141, 0.88624968, 0.05423595]),\n",
              " array([0.03048298, 0.02903141, 0.88624968, 0.05423595])]"
            ]
          },
          "metadata": {},
          "execution_count": 3
        }
      ]
    },
    {
      "cell_type": "markdown",
      "source": [
        "¿Qué pasa con las distribuciones en este caso? No cambian conforme pasa el tiempo, es decir que es **estacionaria** o **invariante** para la cadena de Markov.\n",
        "\n",
        "A las distribuciones de probabilidad $\\pi$ que cumplan esta propiedad se les llama distribuciones estacionarias. Nota que en particular deben cumplir que $\\pi P = \\pi$, lo cual es la definición.\n",
        "\n"
      ],
      "metadata": {
        "id": "FkUL8BJ0-M9H"
      }
    },
    {
      "cell_type": "markdown",
      "source": [
        "Veamos otro ejemplo, si consideramos la cadena de Markov con matriz de transición\n",
        "\n",
        "\\begin{pmatrix}\n",
        "\\frac{2}{3} & \\frac{1}{3} \\\\\n",
        "\\frac{1}{4} & \\frac{3}{4}\n",
        "\\end{pmatrix}\n",
        "\n",
        "entonces analicemos su comportamiento si tomamos como distribución inicial a $\\pi_0 = (\\frac{3}{7}, \\frac{4}{7})$"
      ],
      "metadata": {
        "id": "2djssXITt4kb"
      }
    },
    {
      "cell_type": "code",
      "source": [
        "P = np.array([[2/3, 1/3], [1/4, 3/4]])\n",
        "pi_0 = np.array([3/7, 4/7])\n",
        "N = 10\n",
        "distribuciones = []\n",
        "\n",
        "for n in range(N):\n",
        "    pi_n = np.dot(pi_0, P)\n",
        "    distribuciones.append(pi_n)\n",
        "    pi_0 = pi_n\n",
        "\n",
        "distribuciones"
      ],
      "metadata": {
        "colab": {
          "base_uri": "https://localhost:8080/"
        },
        "id": "xNQPpS1M-erM",
        "outputId": "cae71783-b602-4642-a8cf-bbc999f634e1"
      },
      "execution_count": null,
      "outputs": [
        {
          "output_type": "execute_result",
          "data": {
            "text/plain": [
              "[array([0.42857143, 0.57142857]),\n",
              " array([0.42857143, 0.57142857]),\n",
              " array([0.42857143, 0.57142857]),\n",
              " array([0.42857143, 0.57142857]),\n",
              " array([0.42857143, 0.57142857]),\n",
              " array([0.42857143, 0.57142857]),\n",
              " array([0.42857143, 0.57142857]),\n",
              " array([0.42857143, 0.57142857]),\n",
              " array([0.42857143, 0.57142857]),\n",
              " array([0.42857143, 0.57142857])]"
            ]
          },
          "metadata": {},
          "execution_count": 4
        }
      ]
    },
    {
      "cell_type": "markdown",
      "source": [
        "¡Esta era la distribución estacionaria!\n",
        "\n",
        "De hecho, en general, para la cadena de Markov de dos estados con matriz de transición dada por\n",
        "\n",
        "\\begin{pmatrix}\n",
        "1-a & a \\\\\n",
        "b & 1-b\n",
        "\\end{pmatrix}\n",
        "\n",
        "la distribución $\\pi = (\\frac{a}{a+b} , \\frac{b}{a+b})$ es estacionaria. Este es un caso particular donde $a = \\frac{1}{3}$ y $b = \\frac{1}{4}$\n",
        "\n",
        "Ahora actualizaremos nuestra clase Cadena de Markov para incluir el cálculo de las distribuciones a largo plazo."
      ],
      "metadata": {
        "id": "Vp05Tvu5-07T"
      }
    },
    {
      "cell_type": "code",
      "source": [
        "class CadenaMarkov:\n",
        "\n",
        "  # Definimos el constructor de la clase\n",
        "  def __init__(self, P, pi_0):\n",
        "    self.P = P\n",
        "    self.pi_0 = pi_0\n",
        "    self.estados = list(range(len(pi_0))) # Nuevo: Definimos el espacio de estados\n",
        "    self.proceso = [np.random.choice(range(len(pi_0)), p = pi_0)]\n",
        "\n",
        "  # Simulamos la cadena igual que antes\n",
        "  def simular(self, iter):\n",
        "    for i in range(iter):\n",
        "      estado_actual = self.proceso[-1]\n",
        "      xn = np.random.choice(range(len(self.pi_0)), p = self.P[estado_actual])\n",
        "      self.proceso.append(int(xn))\n",
        "    return self.proceso\n",
        "\n",
        "  # Graficamos la trayectoria generada de nuestro proceso\n",
        "  def plot(self, co):\n",
        "    plt.figure(figsize=(7,4))\n",
        "    plt.plot(self.proceso, '-', color = co, ms=1)\n",
        "    plt.style.use('seaborn-v0_8-dark')\n",
        "    plt.grid()\n",
        "    plt.title('Cadena de Markov')\n",
        "    plt.xlabel('Iteración')\n",
        "    plt.ylabel('Estado')\n",
        "    plt.show()\n",
        "\n",
        "  # Función para calcular m_y, recibe iteraciones de cada trayectoria y número de trayectorias\n",
        "  def Tiempos_retorno(self, y, iter, trayectorias):\n",
        "    # Verificamos que el estado esté en el conjunto de estados\n",
        "    if not y in self.estados:\n",
        "      return None\n",
        "    else:\n",
        "      muestra = []\n",
        "      # Generamos tantas trayectorias como indiquemos\n",
        "      for _ in range(trayectorias):\n",
        "        # Generamos una trayectoria que empiece en el estado que queremos\n",
        "        cadena_y = CadenaMarkov(self.P, [1 if i == y else 0 for i in range(len(self.pi_0))])\n",
        "        # Simulamos la trayectoria\n",
        "        cadena_y.simular(iter)\n",
        "        # Verificamos el tiempo de retorno de esa trayectoria y lo añadimos a la lista muestra\n",
        "        for t in range(1, len(cadena_y.proceso)):\n",
        "          if cadena_y.proceso[t] == y:\n",
        "            muestra.append(t)\n",
        "            break\n",
        "      # Si todo sale bien, devolvemos la media muestral de la muestra de T_y\n",
        "      if muestra:\n",
        "        return sum(muestra) / len(muestra)\n",
        "      else:\n",
        "        return None\n",
        "\n",
        "  def distribuciones(self, iter):\n",
        "    # Definimos nuestra lista de distribuciones\n",
        "    distribuciones = []\n",
        "    pi_0 = self.pi_0\n",
        "    # Iteramos como ya sabemos y guardamos las distribuciones\n",
        "    for n in range(iter):\n",
        "        pi_n = np.dot(pi_0, self.P)\n",
        "        distribuciones.append(pi_n)\n",
        "        pi_0 = pi_n\n",
        "    return distribuciones\n",
        "\n"
      ],
      "metadata": {
        "id": "TYetijOv6E1Q"
      },
      "execution_count": null,
      "outputs": []
    },
    {
      "cell_type": "markdown",
      "source": [
        "Para la cadena de la clase 4 con matriz de transición\n",
        "\n",
        "\\begin{pmatrix}\n",
        "0 & 0.5 & 0.5 \\\\\n",
        "0.25 & 0.5 & 0.25 \\\\\n",
        "0.25 & 0.25 & 0.5\n",
        "\\end{pmatrix}\n",
        "\n",
        "Calculamos que los tiempos medios de retorno del 0, 1 y 2 eran $5$, $\\frac{5}{2}$ y $\\frac{5}{2}$, respectivamente. Veamos ahora cómo es su evolución en distribuciones"
      ],
      "metadata": {
        "id": "Yk0fg5wt_pcg"
      }
    },
    {
      "cell_type": "code",
      "source": [
        "P1 = np.array([[0, 0.5, 0.5],\n",
        "               [0.25, 0.5, 0.25],\n",
        "               [.25, 0.25, 0.5]])\n",
        "\n",
        "cadena_prueba = CadenaMarkov(P1, [1,0,0])\n",
        "cadena_prueba.distribuciones(20)"
      ],
      "metadata": {
        "colab": {
          "base_uri": "https://localhost:8080/"
        },
        "id": "OnyLXILg_8EY",
        "outputId": "2a4c654c-1d10-44ca-8491-728fe2d80486"
      },
      "execution_count": null,
      "outputs": [
        {
          "output_type": "execute_result",
          "data": {
            "text/plain": [
              "[array([0. , 0.5, 0.5]),\n",
              " array([0.25 , 0.375, 0.375]),\n",
              " array([0.1875 , 0.40625, 0.40625]),\n",
              " array([0.203125 , 0.3984375, 0.3984375]),\n",
              " array([0.19921875, 0.40039062, 0.40039062]),\n",
              " array([0.20019531, 0.39990234, 0.39990234]),\n",
              " array([0.19995117, 0.40002441, 0.40002441]),\n",
              " array([0.20001221, 0.3999939 , 0.3999939 ]),\n",
              " array([0.19999695, 0.40000153, 0.40000153]),\n",
              " array([0.20000076, 0.39999962, 0.39999962]),\n",
              " array([0.19999981, 0.4000001 , 0.4000001 ]),\n",
              " array([0.20000005, 0.39999998, 0.39999998]),\n",
              " array([0.19999999, 0.40000001, 0.40000001]),\n",
              " array([0.2, 0.4, 0.4]),\n",
              " array([0.2, 0.4, 0.4]),\n",
              " array([0.2, 0.4, 0.4]),\n",
              " array([0.2, 0.4, 0.4]),\n",
              " array([0.2, 0.4, 0.4]),\n",
              " array([0.2, 0.4, 0.4]),\n",
              " array([0.2, 0.4, 0.4])]"
            ]
          },
          "metadata": {},
          "execution_count": 6
        }
      ]
    },
    {
      "cell_type": "code",
      "source": [
        "plt.figure(figsize=(7,4))\n",
        "plt.style.use('seaborn-v0_8-dark')\n",
        "plt.bar([0,1,2], cadena_prueba.distribuciones(20)[-1], color = 'indigo')\n",
        "plt.grid()\n",
        "plt.title('20ava Distribución')\n",
        "plt.xlabel('Estado')\n",
        "plt.ylabel('Probabilidad')\n",
        "plt.show()\n"
      ],
      "metadata": {
        "colab": {
          "base_uri": "https://localhost:8080/",
          "height": 403
        },
        "id": "NtMvg569A_Zg",
        "outputId": "d97c690c-8fb3-4717-a5eb-d05fbede9847"
      },
      "execution_count": null,
      "outputs": [
        {
          "output_type": "display_data",
          "data": {
            "text/plain": [
              "<Figure size 700x400 with 1 Axes>"
            ],
            "image/png": "[encoded data removed]"
          },
          "metadata": {}
        }
      ]
    },
    {
      "cell_type": "markdown",
      "source": [
        "Y sabemos que:\n",
        "\n",
        "$$ \\pi = (\\frac{1}{5}, \\frac{2}{5}, \\frac{2}{5}) = (0.2, 0.4, 0.4) $$\n",
        "\n",
        "Esto concuerda con que la distribución estacionaria es el recíproco del tiempo medio de retorno.\n",
        "\n",
        "Con el ejemplo anterior, teníamos la cadena de Markov con matriz de transición\n",
        "\n",
        "\\begin{pmatrix}\n",
        "\\frac{2}{3} & \\frac{1}{3} \\\\\n",
        "\\frac{1}{4} & \\frac{3}{4}\n",
        "\\end{pmatrix}\n",
        "\n",
        "vimos que $\\pi_0 = (\\frac{3}{7}, \\frac{4}{7})$ es su distribución estacionaria. Veamos sus tiempos medios de retorno.\n",
        "\n",
        "Recuerda que $\\frac{7}{3} ≈ 2.3333$ y $\\frac{7}{4} = 1.75$"
      ],
      "metadata": {
        "id": "ndtDpDXgAMV_"
      }
    },
    {
      "cell_type": "code",
      "source": [
        "P = np.array([[2/3, 1/3], [1/4, 3/4]])\n",
        "pi_0 = np.array([3/7, 4/7])\n",
        "\n",
        "cadena_prueba2 = CadenaMarkov(P, pi_0)\n",
        "print('El tiempo de retorno a 0 es:', cadena_prueba2.Tiempos_retorno(0, 1000, 1000), '\\n a 1 es: ', cadena_prueba2.Tiempos_retorno(1, 1000, 1000))"
      ],
      "metadata": {
        "colab": {
          "base_uri": "https://localhost:8080/"
        },
        "id": "7o2B56Y9CiJW",
        "outputId": "93c13683-3245-456c-ee81-eca6002ec747"
      },
      "execution_count": null,
      "outputs": [
        {
          "output_type": "stream",
          "name": "stdout",
          "text": [
            "El tiempo de retorno a 0 es: 2.407 \n",
            " a 1 es:  1.715\n"
          ]
        }
      ]
    },
    {
      "cell_type": "markdown",
      "source": [
        "¡También concuerda con el resultado teórico!\n",
        "\n",
        "**Ejemplo**\n",
        "analicemos la cadena de Markov con matriz de transición\n",
        "\n",
        "\\begin{pmatrix}\n",
        "1 & 0 & 0 \\\\\n",
        "1/3 & 1/3 & 1/3 \\\\\n",
        "0 & 0 & 1\n",
        "\\end{pmatrix}\n",
        "\n",
        "cumple que $(\\frac{1}{2}, 0, \\frac{1}{2})$ es una distribución estacionaria:"
      ],
      "metadata": {
        "id": "bg-K9oGhDt27"
      }
    },
    {
      "cell_type": "code",
      "source": [
        "P2 = np.array([[1, 0, 0],\n",
        "               [1/3, 1/3, 1/3],\n",
        "               [0, 0, 1]])\n",
        "\n",
        "picero = np.array([1/2, 0, 1/2])\n",
        "\n",
        "cadena_prueba3 = CadenaMarkov(P2, picero)\n",
        "cadena_prueba3.distribuciones(10)"
      ],
      "metadata": {
        "colab": {
          "base_uri": "https://localhost:8080/"
        },
        "id": "AD94W8fuuYiP",
        "outputId": "95cddac0-1b7e-4b8f-a41f-d8552bfe6f13"
      },
      "execution_count": null,
      "outputs": [
        {
          "output_type": "execute_result",
          "data": {
            "text/plain": [
              "[array([0.5, 0. , 0.5]),\n",
              " array([0.5, 0. , 0.5]),\n",
              " array([0.5, 0. , 0.5]),\n",
              " array([0.5, 0. , 0.5]),\n",
              " array([0.5, 0. , 0.5]),\n",
              " array([0.5, 0. , 0.5]),\n",
              " array([0.5, 0. , 0.5]),\n",
              " array([0.5, 0. , 0.5]),\n",
              " array([0.5, 0. , 0.5]),\n",
              " array([0.5, 0. , 0.5])]"
            ]
          },
          "metadata": {},
          "execution_count": 10
        }
      ]
    },
    {
      "cell_type": "markdown",
      "source": [
        "Sin embargo, es fácil probar que si $\\alpha \\in [0,1]$, entonces $\\pi_\\alpha = (1-\\alpha, 0, \\alpha)$ es estacionaria para la cadena. Entonces este es un ejemplo con infinitas distribuciones estacionarias."
      ],
      "metadata": {
        "id": "GZWEC_OEu_8T"
      }
    },
    {
      "cell_type": "code",
      "source": [
        "cadena_prueba4 = CadenaMarkov(P2, [3/4, 0, 1/4])\n",
        "cadena_prueba4.distribuciones(10)"
      ],
      "metadata": {
        "colab": {
          "base_uri": "https://localhost:8080/"
        },
        "id": "8K0FLeoSvOTy",
        "outputId": "d9b20256-36c9-416f-db8f-fd7014735e2a"
      },
      "execution_count": null,
      "outputs": [
        {
          "output_type": "execute_result",
          "data": {
            "text/plain": [
              "[array([0.75, 0.  , 0.25]),\n",
              " array([0.75, 0.  , 0.25]),\n",
              " array([0.75, 0.  , 0.25]),\n",
              " array([0.75, 0.  , 0.25]),\n",
              " array([0.75, 0.  , 0.25]),\n",
              " array([0.75, 0.  , 0.25]),\n",
              " array([0.75, 0.  , 0.25]),\n",
              " array([0.75, 0.  , 0.25]),\n",
              " array([0.75, 0.  , 0.25]),\n",
              " array([0.75, 0.  , 0.25])]"
            ]
          },
          "metadata": {},
          "execution_count": 11
        }
      ]
    },
    {
      "cell_type": "markdown",
      "source": [
        "Finalmente, actualizaremos el código usado de la clase CadenadeMarkov para incluir el cálculo de la distribución estacionaria dada una distribución inicial. Como ya calculamos el tiempo medio de retorno, esta será una aproximación sencilla."
      ],
      "metadata": {
        "id": "1I7Mcfiji3Cv"
      }
    },
    {
      "cell_type": "code",
      "source": [
        "class CadenaMarkov:\n",
        "\n",
        "  # Definimos el constructor de la clase\n",
        "  def __init__(self, P, pi_0):\n",
        "    self.P = P\n",
        "    self.pi_0 = pi_0\n",
        "    self.estados = list(range(len(pi_0))) # Nuevo: Definimos el espacio de estados\n",
        "    self.proceso = [np.random.choice(range(len(pi_0)), p = pi_0)]\n",
        "\n",
        "  # Simulamos la cadena igual que antes\n",
        "  def simular(self, iter):\n",
        "    for i in range(iter):\n",
        "      estado_actual = self.proceso[-1]\n",
        "      xn = np.random.choice(range(len(self.pi_0)), p = self.P[estado_actual])\n",
        "      self.proceso.append(int(xn))\n",
        "    return self.proceso\n",
        "\n",
        "  # Graficamos la trayectoria generada de nuestro proceso\n",
        "  def plot(self, co):\n",
        "    plt.figure(figsize=(7,4))\n",
        "    plt.plot(self.proceso, '-', color = co, ms=1)\n",
        "    plt.style.use('seaborn-v0_8-dark')\n",
        "    plt.grid()\n",
        "    plt.title('Cadena de Markov')\n",
        "    plt.xlabel('Iteración')\n",
        "    plt.ylabel('Estado')\n",
        "    plt.show()\n",
        "\n",
        "  # Función para calcular m_y, recibe iteraciones de cada trayectoria y número de trayectorias\n",
        "  def Tiempos_retorno(self, y, iter, trayectorias):\n",
        "    # Verificamos que el estado esté en el conjunto de estados\n",
        "    if not y in self.estados:\n",
        "      return None\n",
        "    else:\n",
        "      muestra = []\n",
        "      # Generamos tantas trayectorias como indiquemos\n",
        "      for _ in range(trayectorias):\n",
        "        # Generamos una trayectoria que empiece en el estado que queremos\n",
        "        cadena_y = CadenaMarkov(self.P, [1 if i == y else 0 for i in range(len(self.pi_0))])\n",
        "        # Simulamos la trayectoria\n",
        "        cadena_y.simular(iter)\n",
        "        # Verificamos el tiempo de retorno de esa trayectoria y lo añadimos a la lista muestra\n",
        "        for t in range(1, len(cadena_y.proceso)):\n",
        "          if cadena_y.proceso[t] == y:\n",
        "            muestra.append(t)\n",
        "            break\n",
        "      # Si todo sale bien, devolvemos la media muestral de la muestra de T_y\n",
        "      if muestra:\n",
        "        return sum(muestra) / len(muestra)\n",
        "      else:\n",
        "        return None\n",
        "\n",
        "  def distribucion_estacionaria(self):\n",
        "    cadena_estado = CadenaMarkov(self.P, self.pi_0)\n",
        "    est = [1/cadena_estado.Tiempos_retorno(j, 1000, 1000) for j in self.estados]\n",
        "    return est\n"
      ],
      "metadata": {
        "id": "UnAepFUwjG49"
      },
      "execution_count": 7,
      "outputs": []
    },
    {
      "cell_type": "markdown",
      "source": [
        "Ahora probemos nuestro código con uno de los ejemplos anteriores."
      ],
      "metadata": {
        "id": "Li2k0JBOj9jw"
      }
    },
    {
      "cell_type": "code",
      "source": [
        "import numpy as np\n",
        "import matplotlib.pyplot as plt\n",
        "import random\n",
        "P1 = np.array([[0, 0.5, 0.5],\n",
        "               [0.25, 0.5, 0.25],\n",
        "               [.25, 0.25, 0.5]])\n",
        "\n",
        "cadena_prueba = CadenaMarkov(P1, [1,0,0])\n",
        "cadena_prueba.distribucion_estacionaria()"
      ],
      "metadata": {
        "colab": {
          "base_uri": "https://localhost:8080/"
        },
        "id": "31o7Z6r9kEbl",
        "outputId": "b78a45f1-1e51-4c3c-b9b0-4d32b6f32b75"
      },
      "execution_count": 8,
      "outputs": [
        {
          "output_type": "execute_result",
          "data": {
            "text/plain": [
              "[0.19421246844047388, 0.3963535473642489, 0.4081632653061224]"
            ]
          },
          "metadata": {},
          "execution_count": 8
        }
      ]
    },
    {
      "cell_type": "markdown",
      "source": [
        "¡Nuestro código funciona!\n",
        "\n",
        "**Ejercicio**\n",
        "\n",
        "1. Con simulación, calcula la distribución estacionaria de una cadena de Markov de dos estados con $a,b \\in (0,1)$ fijos.\n",
        "2. Haz una función en Python que reciba como parámetros $a,b \\in (0,1)$ y devuelva la distribución estacionaria de una cadena de Markov de dos estados."
      ],
      "metadata": {
        "id": "-XMAG3cAkf-S"
      }
    }
  ]
}